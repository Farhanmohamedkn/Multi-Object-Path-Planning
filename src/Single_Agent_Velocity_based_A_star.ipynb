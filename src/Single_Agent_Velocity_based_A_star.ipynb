{
 "cells": [
  {
   "cell_type": "markdown",
   "metadata": {},
   "source": [
    "# Task 2\n",
    "# Single Agent A* with velocity and angle space path planning"
   ]
  },
  {
   "cell_type": "code",
   "execution_count": 10,
   "metadata": {},
   "outputs": [],
   "source": [
    "import matplotlib.pyplot as plt\n",
    "import copy\n",
    "import time\n",
    "from typing import *\n",
    "from matplotlib.patches import FancyArrow\n",
    "import numpy as np\n",
    "import math"
   ]
  },
  {
   "cell_type": "markdown",
   "metadata": {},
   "source": [
    "# Build a Grid Map of a road junction\n",
    "Designing a MAP [10x10] \n",
    "1-blocked\n",
    "0-allowed to move"
   ]
  },
  {
   "cell_type": "code",
   "execution_count": 11,
   "metadata": {},
   "outputs": [
    {
     "data": {
      "image/png": "[encoded data removed]",
      "text/plain": [
       "<Figure size 640x480 with 1 Axes>"
      ]
     },
     "metadata": {},
     "output_type": "display_data"
    }
   ],
   "source": [
    "\n",
    "FREE = 0\n",
    "OCCUPIED = 100\n",
    "\n",
    "grid_map = [\n",
    "    [1, 1, 1, 0, 0, 0, 0, 1, 1, 1, 1, 1, 1, 0, 0, 0, 0, 0, 0, 0],\n",
    "    [1, 1, 1, 0, 0, 0, 0, 1, 1, 1, 1, 1, 1, 0, 0, 0, 1, 0, 0, 0],\n",
    "    [1, 1, 1, 0, 0, 0, 0, 1, 1, 1, 1, 1, 1, 0, 0, 0, 1, 0, 0, 0],\n",
    "    [0, 0, 0, 0, 0, 0, 0, 0, 0, 0, 0, 0, 0, 0, 0, 0, 1, 1, 1, 0],\n",
    "    [0, 0, 0, 0, 0, 0, 0, 0, 0, 0, 0, 0, 0, 0, 0, 0, 0, 0, 0, 0],\n",
    "    [0, 0, 0, 0, 0, 0, 0, 0, 0, 0, 0, 0, 0, 0, 0, 0, 0, 0, 0, 0],\n",
    "    [0, 0, 0, 0, 0, 0, 0, 0, 0, 0, 0, 0, 0, 0, 0, 0, 0, 0, 0, 0],\n",
    "    [1, 1, 1, 0, 0, 0, 0, 1, 1, 1, 1, 1, 1, 0, 0, 0, 0, 1, 1, 1],\n",
    "    [1, 1, 1, 0, 0, 0, 0, 1, 1, 1, 1, 1, 1, 0, 0, 0, 0, 1, 1, 1],\n",
    "    [1, 1, 1, 0, 0, 0, 0, 1, 1, 1, 1, 1, 1, 0, 0, 0, 0, 1, 1, 1],\n",
    "    [1, 1, 1, 0, 0, 0, 0, 1, 1, 1, 1, 1, 1, 0, 0, 0, 0, 1, 1, 1],\n",
    "    [0, 0, 0, 0, 0, 0, 0, 0, 0, 0, 0, 0, 0, 0, 0, 0, 0, 0, 0, 0],\n",
    "    [0, 0, 0, 0, 0, 0, 0, 0, 0, 0, 0, 0, 0, 0, 0, 0, 0, 0, 0, 0],\n",
    "    [0, 0, 0, 0, 0, 0, 0, 0, 0, 0, 0, 0, 0, 0, 0, 0, 0, 0, 0, 0],\n",
    "    [0, 0, 0, 0, 0, 0, 0, 0, 0, 0, 0, 0, 0, 0, 0, 0, 0, 0, 0, 0],\n",
    "    [0, 1, 1, 1, 0, 0, 0, 1, 1, 1, 1, 1, 1, 0, 0, 0, 0, 0, 0, 0],\n",
    "    [0, 0, 0, 1, 0, 0, 0, 1, 1, 1, 1, 1, 1, 0, 0, 0, 0, 1, 1, 1],\n",
    "    [0, 0, 0, 1, 0, 0, 0, 1, 1, 1, 1, 1, 1, 0, 0, 0, 0, 1, 1, 1],\n",
    "    [0, 0, 0, 0, 0, 0, 0, 1, 1, 1, 1, 1, 1, 0, 0, 0, 0, 1, 1, 1]\n",
    "]\n",
    "\n",
    "\n",
    "grid_map = [[cell* OCCUPIED for cell in row] for row in grid_map]\n",
    "\n",
    "plt.imshow(grid_map);\n",
    "plt.title(\"Road Map\")\n",
    "start = (18,0)\n",
    "goal = (0,19)\n",
    "# plt.plot([4.5,4.5],[9.5,-0.5], linestyle='--',color='white', linewidth=1) #added vertical lane\n",
    "# plt.plot([-0.5,9.5],[4.5,4.5], linestyle='--',color='white', linewidth=1) #added horizontal lane\n",
    "rect = plt.Rectangle((start[1]-.5, start[0]-.5), 1,1, fill=False, color=\"blue\", linewidth=3)\n",
    "plt.gca().add_patch(rect);\n",
    "\n",
    "rect = plt.Rectangle((goal[1]-.5, goal[0]-.5), 1,1, fill=False, color=\"red\", linewidth=3)\n",
    "plt.gca().add_patch(rect);"
   ]
  },
  {
   "cell_type": "markdown",
   "metadata": {},
   "source": [
    "# Helping Functions"
   ]
  },
  {
   "cell_type": "code",
   "execution_count": 12,
   "metadata": {},
   "outputs": [],
   "source": [
    "def is_line_intersect(grid_map, x1, y1, x2, y2):\n",
    "    # Bresenham's line algorithm\n",
    "    dx = abs(x2 - x1)\n",
    "    dy = abs(y2 - y1)\n",
    "    sx = -1 if x1 > x2 else 1\n",
    "    sy = -1 if y1 > y2 else 1\n",
    "    err = dx - dy\n",
    "\n",
    "    while True:\n",
    "        # Check if the current point lies within the grid boundaries\n",
    "        if x1 >= 0 and x1 < len(grid_map) and y1 >= 0 and y1 < len(grid_map[0]):\n",
    "            # If the current point is occupied (has a value of 1), return True\n",
    "            if grid_map[x1][y1] == 100:\n",
    "                return True\n",
    "\n",
    "        # If both points have been reached, break the loop\n",
    "        if x1 == x2 and y1 == y2:\n",
    "            break\n",
    "        \n",
    "        # Calculate next point\n",
    "        e2 = 2 * err\n",
    "        if e2 > -dy:\n",
    "            err -= dy\n",
    "            x1 += sx\n",
    "        if e2 < dx:\n",
    "            err += dx\n",
    "            y1 += sy\n",
    "    \n",
    "    # If none of the points on the line are occupied, return False\n",
    "    return False\n",
    "\n",
    "# # Example usage\n",
    "# grid_map = [[1, 1, 1, 0, 0, 0, 0, 1, 1, 1],\n",
    "#             [1, 1, 1, 0, 0, 0, 0, 1, 1, 1],\n",
    "#             [1, 1, 1, 0, 0, 0, 0, 1, 1, 1],\n",
    "#             [0, 0, 0, 0, 0, 0, 0, 0, 0, 0],\n",
    "#             [0, 0, 0, 0, 0, 0, 0, 0, 0, 0],\n",
    "#             [0, 0, 0, 0, 0, 0, 0, 0, 0, 0],\n",
    "#             [0, 0, 0, 0, 0, 0, 0, 0, 0, 0],\n",
    "#             [1, 1, 1, 0, 0, 0, 0, 1, 1, 1],\n",
    "#             [1, 1, 1, 0, 0, 1, 1, 1, 1, 1],\n",
    "#             [1, 1, 1, 0, 0, 0, 0, 1, 1, 1]]\n",
    "\n",
    "# x1, y1 = 9, 5\n",
    "# x2, y2 = 8, 4\n",
    "\n",
    "# if is_line_intersect(grid_map, x1, y1, x2, y2):\n",
    "#     print(\"The line intersects with an occupied grid.\")\n",
    "# else:\n",
    "#     print(\"The line does not intersect with any occupied grid.\")\n"
   ]
  },
  {
   "cell_type": "code",
   "execution_count": 13,
   "metadata": {},
   "outputs": [],
   "source": [
    "def is_valid(pos: tuple,grid_map: List[List[int]],cur: tuple=None) -> bool:\n",
    "    \"\"\" given an index pair, eg. (6,4), check if it is inside the grid map and it is free \"\"\"\n",
    "    # if the pos is beyond the map, return false\n",
    "    if pos[0]<0 or pos[1]<0 or pos[0]>len(grid_map)-1 or pos[1]>len(grid_map[0])-1:\n",
    "        return False\n",
    "    \n",
    "    # if the pos is occupied, return false\n",
    "    if grid_map[pos[0]][pos[1]] == OCCUPIED: \n",
    "        return False\n",
    "    if cur:\n",
    "        return not(is_line_intersect(grid_map,cur[0],cur[1],pos[0],pos[1]))\n",
    "    return True\n",
    "\n"
   ]
  },
  {
   "cell_type": "code",
   "execution_count": 14,
   "metadata": {},
   "outputs": [],
   "source": [
    "\n",
    "from IPython.display import clear_output\n",
    "\n",
    "print_message=True\n",
    "\n",
    "for i in range(50):\n",
    "    clear_output(wait=False)\n",
    "\n",
    "def cal_heuristic(pos: tuple, goal: tuple) -> float:\n",
    "    return ((pos[0]-goal[0])**2 + (pos[1]-goal[1])**2)**0.5"
   ]
  },
  {
   "cell_type": "markdown",
   "metadata": {},
   "source": [
    "Implementation of A*"
   ]
  },
  {
   "cell_type": "code",
   "execution_count": 15,
   "metadata": {},
   "outputs": [],
   "source": [
    "class AStarPlanner():\n",
    "    def __init__(self, grid_map):\n",
    "        self.row = len(grid_map[1])\n",
    "        self.col = len(grid_map[0])\n",
    "        \n",
    "        self.grid_map = copy.deepcopy(grid_map)\n",
    "        \n",
    "        # self.possible_moves = [[1, 0], [0, 1], [-1, 0], [0, -1], [1, 1], [-1, 1], [-1, -1], [1, -1]]\n",
    "        # [[1, 0], [1, 1], [0, 1], [-1, 1], [-1, -1], [0, -1], [1, -1],\n",
    "        # posible mooooveeee = [[0, -1], [1, -1], [1, 0], [1, 1], [0, 1]]\n",
    "        \n",
    "        self.velocity_range = [1,2,3]  # Sample velocity range\n",
    "\n",
    "        self.angle_range = [0, 45, 90,135,-135,-90,-45,180]  # Sample angle range      \n",
    "        self.possible_moves =[]\n",
    "        for vel in self.velocity_range:\n",
    "                for angle in self.angle_range:\n",
    "                    dx=int(round(vel*math.cos(math.radians(angle)))) \n",
    "                    dy=int(round(vel*math.sin(math.radians(angle))))\n",
    "                    self.possible_moves.append([dx,dy])\n",
    "        \n",
    "        # print(\"posible move =\",self.possible_moves)\n",
    "        \n",
    "    def search(self, start, goal, heu_wgt=1):\n",
    "        self.start, self.goal = start, goal\n",
    "\n",
    "        # check if the given start and goal are valid\n",
    "        if not is_valid(start, self.grid_map) or not is_valid(goal, self.grid_map):\n",
    "            print(\"The start or the goal is not valid\")\n",
    "            return False\n",
    "        \n",
    "        self.explored = []\n",
    "        self.unexplored = []        \n",
    "        self.g_score = [[float('inf') for i in range(self.row)] for j in range(self.col)] #created and filled with infinity \n",
    "        self.f_score = [[float('inf') for i in range(self.row)] for j in range(self.col)]\n",
    "        self.cost_visualization = copy.deepcopy(grid_map)\n",
    "        self.track_back = {}\n",
    "        \n",
    "        self.unexplored.append(self.start)\n",
    "        sorted_not_explored = [self.start]\n",
    "        self.g_score[self.start[0]][self.start[1]] = 0\n",
    "        self.track_back[self.start] = None\n",
    "        \n",
    "        while(self.unexplored):\n",
    "            # STEP1: move to the position in the queue with minimal `f(n)`\n",
    "            cur = sorted_not_explored[0]\n",
    "            self.unexplored.remove(cur)\n",
    "            self.explored.append(cur)\n",
    "            \n",
    "            # STEP2: check if the standing position is the goal\n",
    "            # if the pos with min f is the goal then return\n",
    "            # if not, add the pos to explored[] and remove it from unexplored[]\n",
    "            if cur == goal:\n",
    "                print(\"The goal has been found\")\n",
    "                return True\n",
    "            \n",
    "            # STEP3: determine the next possible positions\n",
    "            next_possible_pos = (np.array(self.possible_moves) + np.array(cur))\n",
    "            for pos in next_possible_pos:\n",
    "                next_pos = tuple(pos)\n",
    "                \n",
    "                # if the next is not valid, continue\n",
    "                if not is_valid(next_pos, self.grid_map,cur):\n",
    "                    continue\n",
    "\n",
    "                # STEP4: store the possible positions into the queue\n",
    "                # if the pos hasn't been evaluated,, \n",
    "                # then update the g_score, f_score, cost_visualization, and track_back\n",
    "                if next_pos not in self.explored and next_pos not in self.unexplored:\n",
    "                    self.unexplored.insert(0,next_pos)\n",
    "                    self.g_score[next_pos[0]][next_pos[1]] = self.g_score[cur[0]][cur[1]]+1\n",
    "                    self.f_score[next_pos[0]][next_pos[1]] = self.g_score[next_pos[0]][next_pos[1]] + heu_wgt*cal_heuristic(next_pos, goal) #f=g+h\n",
    "                    self.cost_visualization[next_pos[0]][next_pos[1]] = self.f_score[next_pos[0]][next_pos[1]] #copy of grid map also a matrix\n",
    "                    self.track_back[next_pos] = cur\n",
    "                \n",
    "                # The pos has been evaluated, but the new g_score is lower then previous result. \n",
    "                # That means this is a shorter path to reach the pos\n",
    "                # Update the g_score, f_score, cost_visualization, and track_back\n",
    "                else:\n",
    "                    g_score_tmp = self.g_score[cur[0]][cur[1]]+1\n",
    "                    if g_score_tmp < self.g_score[next_pos[0]][next_pos[1]]:\n",
    "                        self.g_score[next_pos[0]][next_pos[1]] = g_score_tmp\n",
    "                        self.f_score[next_pos[0]][next_pos[1]] = self.g_score[next_pos[0]][next_pos[1]] + heu_wgt*cal_heuristic(next_pos, goal)\n",
    "                        self.cost_visualization[next_pos[0]][next_pos[1]] = self.f_score[next_pos[0]][next_pos[1]]\n",
    "                        self.track_back[next_pos] = cur\n",
    "            \n",
    "            # sort unexplored[] based on their f value. Hint: use sorted() with lambda function as key.\n",
    "            sorted_not_explored = sorted(self.unexplored, key=lambda pos: self.f_score[pos[0]][pos[1]], reverse=False)\n",
    "\n",
    "            if(print_message):\n",
    "                print('sorted_not_explored: ', sorted_not_explored)\n",
    "                \n",
    "        print(\"No valid path to the goal\")\n",
    "        return False"
   ]
  },
  {
   "cell_type": "markdown",
   "metadata": {},
   "source": [
    "Defining the Start and Goal Node and checking whether they are Valid"
   ]
  },
  {
   "cell_type": "code",
   "execution_count": 16,
   "metadata": {},
   "outputs": [
    {
     "name": "stdout",
     "output_type": "stream",
     "text": [
      "sorted_not_explored:  [(16, 2), (18, 3), (15, 0), (18, 2), (17, 1), (16, 0), (18, 1), (17, 0)]\n",
      "sorted_not_explored:  [(18, 3), (15, 0), (18, 2), (17, 1), (16, 0), (17, 2), (16, 1), (18, 1), (17, 0)]\n",
      "sorted_not_explored:  [(16, 5), (18, 6), (17, 4), (18, 5), (15, 0), (18, 4), (18, 2), (17, 1), (16, 0), (17, 2), (16, 1), (18, 1), (17, 0)]\n",
      "sorted_not_explored:  [(14, 7), (13, 5), (14, 5), (15, 6), (15, 5), (16, 6), (18, 6), (15, 4), (14, 3), (17, 6), (17, 4), (18, 5), (16, 4), (17, 5), (15, 0), (18, 4), (18, 2), (17, 1), (16, 0), (17, 2), (16, 1), (18, 1), (17, 0)]\n",
      "sorted_not_explored:  [(12, 9), (11, 7), (14, 10), (12, 7), (13, 8), (14, 9), (13, 7), (14, 8), (13, 5), (13, 6), (12, 5), (14, 5), (15, 6), (14, 6), (15, 5), (16, 6), (18, 6), (15, 4), (14, 3), (17, 6), (14, 4), (17, 4), (18, 5), (16, 4), (17, 5), (15, 0), (18, 4), (18, 2), (17, 1), (16, 0), (17, 2), (16, 1), (18, 1), (17, 0)]\n",
      "sorted_not_explored:  [(12, 12), (11, 10), (12, 11), (11, 9), (12, 10), (11, 7), (11, 8), (14, 10), (13, 10), (12, 7), (13, 8), (14, 11), (14, 9), (12, 8), (13, 9), (13, 7), (14, 8), (13, 5), (13, 6), (12, 5), (12, 6), (14, 5), (15, 6), (14, 6), (15, 5), (16, 6), (18, 6), (15, 4), (14, 3), (17, 6), (14, 4), (17, 4), (18, 5), (16, 4), (17, 5), (15, 0), (18, 4), (18, 2), (17, 1), (16, 0), (17, 2), (16, 1), (18, 1), (17, 0)]\n",
      "sorted_not_explored:  [(10, 14), (11, 13), (12, 15), (12, 14), (11, 12), (11, 10), (12, 13), (12, 11), (11, 11), (11, 9), (12, 10), (11, 7), (13, 13), (11, 8), (14, 10), (13, 12), (13, 10), (14, 14), (12, 7), (13, 8), (14, 11), (14, 9), (13, 11), (12, 8), (13, 9), (14, 12), (13, 7), (14, 8), (13, 5), (13, 6), (12, 5), (12, 6), (14, 5), (15, 6), (14, 6), (15, 5), (16, 6), (18, 6), (15, 4), (14, 3), (17, 6), (14, 4), (17, 4), (18, 5), (16, 4), (17, 5), (15, 0), (18, 4), (18, 2), (17, 1), (16, 0), (17, 2), (16, 1), (18, 1), (17, 0)]\n",
      "sorted_not_explored:  [(8, 16), (7, 14), (8, 14), (9, 15), (9, 14), (10, 16), (10, 15), (9, 13), (11, 13), (12, 15), (10, 13), (11, 15), (12, 14), (11, 12), (11, 14), (11, 10), (12, 16), (12, 13), (12, 11), (11, 11), (11, 9), (12, 10), (11, 7), (13, 13), (11, 8), (14, 10), (13, 12), (13, 10), (14, 14), (13, 14), (12, 7), (13, 8), (14, 11), (14, 9), (13, 11), (12, 8), (13, 9), (14, 12), (13, 7), (14, 8), (13, 5), (13, 6), (12, 5), (12, 6), (14, 5), (15, 6), (14, 6), (15, 5), (16, 6), (18, 6), (15, 4), (14, 3), (17, 6), (14, 4), (17, 4), (18, 5), (16, 4), (17, 5), (15, 0), (18, 4), (18, 2), (17, 1), (16, 0), (17, 2), (16, 1), (18, 1), (17, 0)]\n",
      "sorted_not_explored:  [(5, 16), (6, 16), (7, 14), (7, 16), (6, 14), (7, 15), (8, 14), (9, 15), (8, 15), (9, 14), (10, 16), (9, 16), (10, 15), (9, 13), (8, 13), (11, 13), (12, 15), (10, 13), (11, 15), (12, 14), (11, 12), (11, 14), (11, 10), (12, 16), (11, 16), (12, 13), (12, 11), (11, 11), (11, 9), (12, 10), (11, 7), (13, 13), (11, 8), (14, 10), (13, 12), (13, 10), (14, 14), (13, 14), (12, 7), (13, 8), (14, 11), (14, 9), (13, 11), (12, 8), (13, 9), (14, 12), (13, 7), (14, 8), (13, 5), (13, 6), (12, 5), (12, 6), (14, 5), (15, 6), (14, 6), (15, 5), (16, 6), (18, 6), (15, 4), (14, 3), (17, 6), (14, 4), (17, 4), (18, 5), (16, 4), (17, 5), (15, 0), (18, 4), (18, 2), (17, 1), (16, 0), (17, 2), (16, 1), (18, 1), (17, 0)]\n",
      "sorted_not_explored:  [(4, 17), (5, 19), (4, 16), (5, 18), (5, 17), (4, 15), (6, 16), (3, 14), (6, 17), (5, 15), (7, 14), (7, 16), (6, 14), (7, 15), (5, 14), (6, 15), (8, 14), (5, 13), (9, 15), (8, 15), (9, 14), (10, 16), (9, 16), (10, 15), (9, 13), (8, 13), (11, 13), (12, 15), (10, 13), (11, 15), (12, 14), (11, 12), (11, 14), (11, 10), (12, 16), (11, 16), (12, 13), (12, 11), (11, 11), (11, 9), (12, 10), (11, 7), (13, 13), (11, 8), (14, 10), (13, 12), (13, 10), (14, 14), (13, 14), (12, 7), (13, 8), (14, 11), (14, 9), (13, 11), (12, 8), (13, 9), (14, 12), (13, 7), (14, 8), (13, 5), (13, 6), (12, 5), (12, 6), (14, 5), (15, 6), (14, 6), (15, 5), (16, 6), (18, 6), (15, 4), (14, 3), (17, 6), (14, 4), (17, 4), (18, 5), (16, 4), (17, 5), (15, 0), (18, 4), (18, 2), (17, 1), (16, 0), (17, 2), (16, 1), (18, 1), (17, 0)]\n",
      "sorted_not_explored:  [(4, 19), (5, 19), (4, 16), (5, 18), (4, 18), (5, 17), (4, 15), (6, 16), (3, 14), (6, 17), (5, 15), (7, 14), (7, 16), (6, 14), (6, 19), (7, 15), (5, 14), (6, 15), (4, 14), (8, 14), (5, 13), (9, 15), (8, 15), (9, 14), (10, 16), (9, 16), (10, 15), (9, 13), (8, 13), (11, 13), (12, 15), (10, 13), (11, 15), (12, 14), (11, 12), (11, 14), (11, 10), (12, 16), (11, 16), (12, 13), (12, 11), (11, 11), (11, 9), (12, 10), (11, 7), (13, 13), (11, 8), (14, 10), (13, 12), (13, 10), (14, 14), (13, 14), (12, 7), (13, 8), (14, 11), (14, 9), (13, 11), (12, 8), (13, 9), (14, 12), (13, 7), (14, 8), (13, 5), (13, 6), (12, 5), (12, 6), (14, 5), (15, 6), (14, 6), (15, 5), (16, 6), (18, 6), (15, 4), (14, 3), (17, 6), (14, 4), (17, 4), (18, 5), (16, 4), (17, 5), (15, 0), (18, 4), (18, 2), (17, 1), (16, 0), (17, 2), (16, 1), (18, 1), (17, 0)]\n",
      "sorted_not_explored:  [(1, 19), (2, 19), (3, 19), (5, 19), (4, 16), (5, 18), (4, 18), (5, 17), (4, 15), (6, 16), (3, 14), (6, 17), (5, 15), (7, 14), (7, 16), (6, 14), (6, 19), (7, 15), (5, 14), (6, 15), (4, 14), (8, 14), (5, 13), (9, 15), (8, 15), (9, 14), (10, 16), (9, 16), (10, 15), (9, 13), (8, 13), (11, 13), (12, 15), (10, 13), (11, 15), (12, 14), (11, 12), (11, 14), (11, 10), (12, 16), (11, 16), (12, 13), (12, 11), (11, 11), (11, 9), (12, 10), (11, 7), (13, 13), (11, 8), (14, 10), (13, 12), (13, 10), (14, 14), (13, 14), (12, 7), (13, 8), (14, 11), (14, 9), (13, 11), (12, 8), (13, 9), (14, 12), (13, 7), (14, 8), (13, 5), (13, 6), (12, 5), (12, 6), (14, 5), (15, 6), (14, 6), (15, 5), (16, 6), (18, 6), (15, 4), (14, 3), (17, 6), (14, 4), (17, 4), (18, 5), (16, 4), (17, 5), (15, 0), (18, 4), (18, 2), (17, 1), (16, 0), (17, 2), (16, 1), (18, 1), (17, 0)]\n",
      "sorted_not_explored:  [(0, 19), (0, 18), (2, 19), (1, 18), (3, 19), (5, 19), (4, 16), (5, 18), (4, 18), (1, 17), (2, 18), (5, 17), (4, 15), (6, 16), (3, 14), (6, 17), (5, 15), (7, 14), (7, 16), (6, 14), (6, 19), (7, 15), (5, 14), (6, 15), (4, 14), (8, 14), (5, 13), (9, 15), (8, 15), (9, 14), (10, 16), (9, 16), (10, 15), (9, 13), (8, 13), (11, 13), (12, 15), (10, 13), (11, 15), (12, 14), (11, 12), (11, 14), (11, 10), (12, 16), (11, 16), (12, 13), (12, 11), (11, 11), (11, 9), (12, 10), (11, 7), (13, 13), (11, 8), (14, 10), (13, 12), (13, 10), (14, 14), (13, 14), (12, 7), (13, 8), (14, 11), (14, 9), (13, 11), (12, 8), (13, 9), (14, 12), (13, 7), (14, 8), (13, 5), (13, 6), (12, 5), (12, 6), (14, 5), (15, 6), (14, 6), (15, 5), (16, 6), (18, 6), (15, 4), (14, 3), (17, 6), (14, 4), (17, 4), (18, 5), (16, 4), (17, 5), (15, 0), (18, 4), (18, 2), (17, 1), (16, 0), (17, 2), (16, 1), (18, 1), (17, 0)]\n",
      "The goal has been found\n"
     ]
    },
    {
     "data": {
      "image/png": "[encoded data removed]",
      "text/plain": [
       "<Figure size 640x480 with 1 Axes>"
      ]
     },
     "metadata": {},
     "output_type": "display_data"
    }
   ],
   "source": [
    "a_star_planner = AStarPlanner(grid_map)\n",
    "start = (18,0)\n",
    "goal = (0,19)\n",
    "goal_found = a_star_planner.search(start, goal, heu_wgt=1)##when eu_wgt=0 is it djkstra?no heuristic function\n",
    "\n",
    "if goal_found:\n",
    "    plt.imshow(a_star_planner.cost_visualization)\n",
    "\n",
    "    rect = plt.Rectangle((a_star_planner.start[1]-.5, a_star_planner.start[0]-.5), 1,1, fill=False, color=\"black\", linewidth=3)\n",
    "    plt.gca().add_patch(rect)\n",
    "\n",
    "    rect = plt.Rectangle((a_star_planner.goal[1]-.5, a_star_planner.goal[0]-.5), 1,1, fill=False, color=\"red\", linewidth=3)\n",
    "    plt.gca().add_patch(rect)"
   ]
  },
  {
   "cell_type": "code",
   "execution_count": 17,
   "metadata": {},
   "outputs": [
    {
     "name": "stdout",
     "output_type": "stream",
     "text": [
      "The goal has been found\n",
      "Time taken: 0.0 seconds\n"
     ]
    },
    {
     "data": {
      "image/png": "[encoded data removed]",
      "text/plain": [
       "<Figure size 640x480 with 1 Axes>"
      ]
     },
     "metadata": {},
     "output_type": "display_data"
    }
   ],
   "source": [
    "if goal_found:\n",
    "    plt.imshow(a_star_planner.cost_visualization)\n",
    "\n",
    "    rect = plt.Rectangle((a_star_planner.start[1]-.5, a_star_planner.start[0]-.5), 1,1, fill=False, color=\"blue\", linewidth=3)\n",
    "    plt.gca().add_patch(rect)\n",
    "\n",
    "    rect = plt.Rectangle((a_star_planner.goal[1]-.5, a_star_planner.goal[0]-.5), 1,1, fill=False, color=\"red\", linewidth=3)\n",
    "    plt.gca().add_patch(rect)\n",
    "\n",
    "    cur = a_star_planner.goal\n",
    "    path = []\n",
    "    while cur != None:\n",
    "        path.append(cur)\n",
    "        cur = a_star_planner.track_back[cur]\n",
    "    path.reverse()\n",
    "    \n",
    "    for footprint in path:\n",
    "        crle = plt.Circle((footprint[1], footprint[0]), 0.2, fill=True, color=\"black\", linewidth=1)\n",
    "        plt.gca().add_patch(crle)\n",
    "\n",
    "    # Draw line connecting path points\n",
    "    x = [point[1] for point in path]\n",
    "    y = [point[0] for point in path]\n",
    "    plt.plot(x, y, color='white', linewidth=2)\n",
    "\n",
    "print_message=False\n",
    "start_time = time.time()\n",
    "a_star_planner.search(start, goal)\n",
    "end_time = time.time()\n",
    "elapsed_time = end_time - start_time\n",
    "print(\"Time taken:\", elapsed_time, \"seconds\")"
   ]
  },
  {
   "cell_type": "markdown",
   "metadata": {},
   "source": [
    "# Measure the execution time of the search method\n",
    "\n",
    "\n",
    "# Calculate the elapsed time\n"
   ]
  },
  {
   "cell_type": "code",
   "execution_count": 18,
   "metadata": {},
   "outputs": [
    {
     "name": "stdout",
     "output_type": "stream",
     "text": [
      "The goal has been found\n",
      "Time taken: 0.002763100026641041 seconds\n"
     ]
    }
   ],
   "source": [
    "print_message=False\n",
    "start_time = time.perf_counter()\n",
    "a_star_planner.search(start, goal)\n",
    "end_time = time.perf_counter()\n",
    "elapsed_time = end_time - start_time\n",
    "print(\"Time taken:\", elapsed_time, \"seconds\")"
   ]
  }
 ],
 "metadata": {
  "kernelspec": {
   "display_name": "Python 3",
   "language": "python",
   "name": "python3"
  },
  "language_info": {
   "codemirror_mode": {
    "name": "ipython",
    "version": 3
   },
   "file_extension": ".py",
   "mimetype": "text/x-python",
   "name": "python",
   "nbconvert_exporter": "python",
   "pygments_lexer": "ipython3",
   "version": "3.11.1"
  }
 },
 "nbformat": 4,
 "nbformat_minor": 2
}
