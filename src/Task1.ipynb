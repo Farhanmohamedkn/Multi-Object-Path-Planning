{
 "cells": [
  {
   "cell_type": "markdown",
   "metadata": {},
   "source": [
    "# Task 1\n",
    "Build a Map for a road junction"
   ]
  },
  {
   "cell_type": "code",
   "execution_count": 63,
   "metadata": {},
   "outputs": [],
   "source": [
    "import matplotlib.pyplot as plt\n",
    "import copy\n",
    "from typing import *\n",
    "from matplotlib.patches import FancyArrow\n",
    "import numpy as np"
   ]
  },
  {
   "cell_type": "markdown",
   "metadata": {},
   "source": [
    "Designing a MAP [10x10] matrix(2 lane road)\n",
    "road width 6\n",
    "1-blocked\n",
    "0-allowed moves"
   ]
  },
  {
   "cell_type": "code",
   "execution_count": 64,
   "metadata": {},
   "outputs": [
    {
     "data": {
      "image/png": "[encoded data removed]",
      "text/plain": [
       "<Figure size 640x480 with 1 Axes>"
      ]
     },
     "metadata": {},
     "output_type": "display_data"
    }
   ],
   "source": [
    "\n",
    "FREE = 0\n",
    "OCCUPIED = 100\n",
    "\n",
    "grid_map = [[1, 1, 1, 0, 0, 0, 0, 1, 1, 1],  \n",
    "            [1, 1, 1, 0, 0, 0, 0, 1, 1, 1],  \n",
    "            [1, 1, 1, 0, 0, 0, 0, 1, 1, 1],  \n",
    "            [0, 0, 0, 0, 0, 0, 0, 0, 0, 0],  \n",
    "            [0, 0, 0, 0, 0, 0, 0, 0, 0, 0],  \n",
    "            [0, 0, 0, 0, 0, 0, 0, 0, 0, 0],  \n",
    "            [0, 0, 0, 0, 0, 0, 1, 0, 0, 0],  \n",
    "            [1, 1, 1, 0, 0, 0, 0, 1, 1, 1],  \n",
    "            [1, 1, 1, 0, 0, 0, 0, 1, 1, 1],  \n",
    "            [1, 1, 1, 0, 0, 0, 0, 1, 1, 1]]\n",
    "\n",
    "grid_map = [[cell* OCCUPIED for cell in row] for row in grid_map]\n",
    "\n",
    "plt.imshow(grid_map);\n",
    "plt.title(\"Road Map\")\n",
    "\n",
    "start = (9,6)\n",
    "goal = (6,9)\n",
    "\n",
    "plt.plot([4.5,4.5],[9.5,-0.5], linestyle='--',color='white', linewidth=1) #added vertical lane\n",
    "plt.plot([-0.5,9.5],[4.5,4.5], linestyle='--',color='white', linewidth=1) #added horizontal lane\n",
    "rect = plt.Rectangle((start[1]-.5, start[0]-.5), 1,1, fill=False, color=\"blue\", linewidth=3)\n",
    "plt.gca().add_patch(rect);\n",
    "\n",
    "rect = plt.Rectangle((goal[1]-.5, goal[0]-.5), 1,1, fill=False, color=\"red\", linewidth=3)\n",
    "plt.gca().add_patch(rect);"
   ]
  },
  {
   "cell_type": "markdown",
   "metadata": {},
   "source": [
    "Helping Functions"
   ]
  },
  {
   "cell_type": "code",
   "execution_count": 65,
   "metadata": {},
   "outputs": [],
   "source": [
    "def is_valid(pos: tuple, grid_map: List[List[int]]) -> bool:\n",
    "    \"\"\" given an index pair, eg. (6,4), check if it is inside the grid map and it is free \"\"\"\n",
    "    # if the pos is beyond the map, return false\n",
    "    if pos[0]<0 or pos[1]<0 or pos[0]>len(grid_map)-1 or pos[1]>len(grid_map[0])-1:\n",
    "        return False\n",
    "    \n",
    "    # if the pos is occupied, return false\n",
    "    if grid_map[pos[0]][pos[1]] == OCCUPIED: \n",
    "        return False\n",
    "    return True"
   ]
  },
  {
   "cell_type": "code",
   "execution_count": 66,
   "metadata": {},
   "outputs": [],
   "source": [
    "#%run Ex1_BFS_DFS_sol.ipynb import is_valid;\n",
    "from IPython.display import clear_output\n",
    "\n",
    "for i in range(50):\n",
    "    clear_output(wait=False)\n",
    "\n",
    "def cal_heuristic(pos: tuple, goal: tuple) -> float:\n",
    "    return ((pos[0]-goal[0])**2 + (pos[1]-goal[1])**2)**0.5"
   ]
  },
  {
   "cell_type": "markdown",
   "metadata": {},
   "source": [
    "Implementation of A*"
   ]
  },
  {
   "cell_type": "code",
   "execution_count": 67,
   "metadata": {},
   "outputs": [],
   "source": [
    "class AStarPlanner():\n",
    "    def __init__(self, grid_map):\n",
    "        self.row = len(grid_map)\n",
    "        self.col = len(grid_map[0])\n",
    "        \n",
    "        self.grid_map = copy.deepcopy(grid_map)\n",
    "        \n",
    "        self.possible_moves = [[1,0], [0,1], [-1,0], [0,-1]]       \n",
    "        \n",
    "    def search(self, start, goal, heu_wgt=1):\n",
    "        self.start, self.goal = start, goal\n",
    "\n",
    "        # check if the given start and goal are valid\n",
    "        if not is_valid(start, self.grid_map) or not is_valid(goal, self.grid_map):\n",
    "            print(\"The start or the goal is not valid\")\n",
    "            return False\n",
    "        \n",
    "        self.explored = []\n",
    "        self.unexplored = []        \n",
    "        self.g_score = [[float('inf') for i in range(self.row)] for j in range(self.col)] #created and filled with infinity \n",
    "        self.f_score = [[float('inf') for i in range(self.row)] for j in range(self.col)]\n",
    "        self.cost_visualization = copy.deepcopy(grid_map)\n",
    "        self.track_back = {}\n",
    "        \n",
    "        self.unexplored.append(self.start)\n",
    "        sorted_not_explored = [self.start]\n",
    "        self.g_score[self.start[0]][self.start[1]] = 0\n",
    "        self.track_back[self.start] = None\n",
    "        \n",
    "        while(self.unexplored):\n",
    "            # STEP1: move to the position in the queue with minimal `f(n)`\n",
    "            cur = sorted_not_explored[0]\n",
    "            self.unexplored.remove(cur)\n",
    "            self.explored.append(cur)\n",
    "            \n",
    "            # STEP2: check if the standing position is the goal\n",
    "            # if the pos with min f is the goal then return\n",
    "            # if not, add the pos to explored[] and remove it from unexplored[]\n",
    "            if cur == goal:\n",
    "                print(\"The goal has been found\")\n",
    "                return True\n",
    "            \n",
    "            # STEP3: determine the next possible positions\n",
    "            next_possible_pos = (np.array(self.possible_moves) + np.array(cur))\n",
    "            for pos in next_possible_pos:\n",
    "                next_pos = tuple(pos)\n",
    "                \n",
    "                # if the next is not valid, continue\n",
    "                if not is_valid(next_pos, self.grid_map):\n",
    "                    continue\n",
    "\n",
    "                # STEP4: store the possible positions into the queue\n",
    "                # if the pos hasn't been evaluated,, \n",
    "                # then update the g_score, f_score, cost_visualization, and track_back\n",
    "                if next_pos not in self.explored and next_pos not in self.unexplored:\n",
    "                    self.unexplored.insert(0,next_pos)\n",
    "                    self.g_score[next_pos[0]][next_pos[1]] = self.g_score[cur[0]][cur[1]]+1\n",
    "                    self.f_score[next_pos[0]][next_pos[1]] = self.g_score[next_pos[0]][next_pos[1]] + heu_wgt*cal_heuristic(next_pos, goal) #f=g+h\n",
    "                    self.cost_visualization[next_pos[0]][next_pos[1]] = self.f_score[next_pos[0]][next_pos[1]] #copy of grid map also a matrix\n",
    "                    self.track_back[next_pos] = cur\n",
    "                \n",
    "                # The pos has been evaluated, but the new g_score is lower then previous result. \n",
    "                # That means this is a shorter path to reach the pos\n",
    "                # Update the g_score, f_score, cost_visualization, and track_back\n",
    "                else:\n",
    "                    g_score_tmp = self.g_score[cur[0]][cur[1]]+1\n",
    "                    if g_score_tmp < self.g_score[next_pos[0]][next_pos[1]]:\n",
    "                        self.g_score[next_pos[0]][next_pos[1]] = g_score_tmp\n",
    "                        self.f_score[next_pos[0]][next_pos[1]] = self.g_score[next_pos[0]][next_pos[1]] + heu_wgt*cal_heuristic(next_pos, goal)\n",
    "                        self.cost_visualization[next_pos[0]][next_pos[1]] = self.f_score[next_pos[0]][next_pos[1]]\n",
    "                        self.track_back[next_pos] = cur\n",
    "            \n",
    "            # sort unexplored[] based on their f value. Hint: use sorted() with lambda function as key.\n",
    "            sorted_not_explored = sorted(self.unexplored, key=lambda pos: self.f_score[pos[0]][pos[1]], reverse=False)\n",
    "            print('sorted_not_explored: ', sorted_not_explored)\n",
    "        print(\"No valid path to the goal\")\n",
    "        return False"
   ]
  },
  {
   "cell_type": "markdown",
   "metadata": {},
   "source": [
    "Defining the Start and Goal Node and checking whether they are Valid"
   ]
  },
  {
   "cell_type": "code",
   "execution_count": 68,
   "metadata": {},
   "outputs": [
    {
     "name": "stdout",
     "output_type": "stream",
     "text": [
      "sorted_not_explored:  [(8, 6), (9, 5)]\n",
      "sorted_not_explored:  [(7, 6), (9, 5), (8, 5)]\n",
      "sorted_not_explored:  [(9, 5), (8, 5), (7, 5)]\n",
      "sorted_not_explored:  [(8, 5), (7, 5), (9, 4)]\n",
      "sorted_not_explored:  [(7, 5), (9, 4), (8, 4)]\n",
      "sorted_not_explored:  [(9, 4), (6, 5), (8, 4), (7, 4)]\n",
      "sorted_not_explored:  [(6, 5), (8, 4), (7, 4), (9, 3)]\n",
      "sorted_not_explored:  [(8, 4), (7, 4), (5, 5), (9, 3), (6, 4)]\n",
      "sorted_not_explored:  [(7, 4), (5, 5), (9, 3), (6, 4), (8, 3)]\n",
      "sorted_not_explored:  [(5, 5), (9, 3), (6, 4), (8, 3), (7, 3)]\n",
      "sorted_not_explored:  [(5, 6), (9, 3), (6, 4), (8, 3), (4, 5), (7, 3), (5, 4)]\n",
      "sorted_not_explored:  [(5, 7), (9, 3), (6, 4), (8, 3), (4, 5), (4, 6), (7, 3), (5, 4)]\n",
      "sorted_not_explored:  [(5, 8), (9, 3), (6, 7), (6, 4), (8, 3), (4, 5), (4, 6), (4, 7), (7, 3), (5, 4)]\n",
      "sorted_not_explored:  [(9, 3), (5, 9), (6, 8), (6, 7), (6, 4), (8, 3), (4, 5), (4, 6), (4, 7), (7, 3), (5, 4), (4, 8)]\n",
      "sorted_not_explored:  [(5, 9), (6, 8), (6, 7), (6, 4), (8, 3), (4, 5), (4, 6), (4, 7), (7, 3), (5, 4), (4, 8)]\n",
      "sorted_not_explored:  [(6, 9), (6, 8), (6, 7), (6, 4), (8, 3), (4, 5), (4, 6), (4, 7), (7, 3), (5, 4), (4, 8), (4, 9)]\n",
      "The goal has been found\n"
     ]
    },
    {
     "data": {
      "image/png": "[encoded data removed]",
      "text/plain": [
       "<Figure size 640x480 with 1 Axes>"
      ]
     },
     "metadata": {},
     "output_type": "display_data"
    }
   ],
   "source": [
    "a_star_planner = AStarPlanner(grid_map)\n",
    "start = (9,6)\n",
    "goal = (6,9)\n",
    "goal_found = a_star_planner.search(start, goal, heu_wgt=1)##when eu_wgt=0 is it djkstra?no heuristic function\n",
    "\n",
    "if goal_found:\n",
    "    plt.imshow(a_star_planner.cost_visualization)\n",
    "\n",
    "    rect = plt.Rectangle((a_star_planner.start[1]-.5, a_star_planner.start[0]-.5), 1,1, fill=False, color=\"black\", linewidth=3)\n",
    "    plt.gca().add_patch(rect)\n",
    "\n",
    "    rect = plt.Rectangle((a_star_planner.goal[1]-.5, a_star_planner.goal[0]-.5), 1,1, fill=False, color=\"red\", linewidth=3)\n",
    "    plt.gca().add_patch(rect)"
   ]
  },
  {
   "cell_type": "code",
   "execution_count": 69,
   "metadata": {},
   "outputs": [
    {
     "data": {
      "image/png": "[encoded data removed]",
      "text/plain": [
       "<Figure size 640x480 with 1 Axes>"
      ]
     },
     "metadata": {},
     "output_type": "display_data"
    }
   ],
   "source": [
    "if goal_found:\n",
    "    plt.imshow(a_star_planner.cost_visualization)\n",
    "\n",
    "    rect = plt.Rectangle((a_star_planner.start[1]-.5, a_star_planner.start[0]-.5), 1,1, fill=False, color=\"blue\", linewidth=3)\n",
    "    plt.gca().add_patch(rect)\n",
    "\n",
    "    rect = plt.Rectangle((a_star_planner.goal[1]-.5, a_star_planner.goal[0]-.5), 1,1, fill=False, color=\"red\", linewidth=3)\n",
    "    plt.gca().add_patch(rect)\n",
    "\n",
    "    cur = a_star_planner.goal\n",
    "    path = []\n",
    "    while cur != None:\n",
    "        path.append(cur)\n",
    "        cur = a_star_planner.track_back[cur]\n",
    "    path.reverse()\n",
    "    \n",
    "    for footprint in path:\n",
    "        crle = plt.Circle((footprint[1], footprint[0]), 0.2, fill=True, color=\"black\", linewidth=1)\n",
    "        plt.gca().add_patch(crle)"
   ]
  }
 ],
 "metadata": {
  "kernelspec": {
   "display_name": "Python 3",
   "language": "python",
   "name": "python3"
  },
  "language_info": {
   "codemirror_mode": {
    "name": "ipython",
    "version": 3
   },
   "file_extension": ".py",
   "mimetype": "text/x-python",
   "name": "python",
   "nbconvert_exporter": "python",
   "pygments_lexer": "ipython3",
   "version": "3.11.1"
  }
 },
 "nbformat": 4,
 "nbformat_minor": 2
}
